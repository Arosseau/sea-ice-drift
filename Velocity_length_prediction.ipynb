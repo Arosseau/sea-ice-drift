{
  "nbformat": 4,
  "nbformat_minor": 0,
  "metadata": {
    "colab": {
      "name": "Velocity length prediction",
      "provenance": [],
      "collapsed_sections": []
    },
    "kernelspec": {
      "name": "python3",
      "display_name": "Python 3"
    },
    "accelerator": "GPU"
  },
  "cells": [
    {
      "cell_type": "markdown",
      "metadata": {
        "id": "fE7xfdESHrA5"
      },
      "source": [
        "## Neural network: ice velocity length\r\n",
        "\r\n",
        "This notebook entails the process for predicting the sea ice velocity lengths (norms). The experimentation was done in Google Colab, so a few remnants of that should be visible in the code, but can be replaced easily with own folder paths or names."
      ]
    },
    {
      "cell_type": "code",
      "metadata": {
        "id": "6D-CqL6HLfuy"
      },
      "source": [
        "import os\r\n",
        "import datetime\r\n",
        "\r\n",
        "import IPython\r\n",
        "import IPython.display\r\n",
        "import matplotlib as mpl\r\n",
        "import matplotlib.pyplot as plt\r\n",
        "import numpy as np\r\n",
        "import pandas as pd\r\n",
        "import seaborn as sns\r\n",
        "import sklearn\r\n",
        "\r\n",
        "import tensorflow as tf\r\n",
        "from tensorflow import keras\r\n",
        "from tensorflow.keras import layers\r\n",
        "\r\n",
        "from tensorflow.keras.layers.experimental import preprocessing\r\n",
        "\r\n",
        "mpl.rcParams['figure.figsize'] = (10, 8)\r\n",
        "mpl.rcParams['axes.grid'] = False"
      ],
      "execution_count": null,
      "outputs": []
    },
    {
      "cell_type": "code",
      "metadata": {
        "id": "XnS4G4biLHfe",
        "colab": {
          "base_uri": "https://localhost:8080/"
        },
        "outputId": "dae96ca7-dafc-4d53-a927-fc6856086750"
      },
      "source": [
        "# load the dataset from Drive:\r\n",
        "from google.colab import drive\r\n",
        "drive.mount('/content/drive')"
      ],
      "execution_count": 10,
      "outputs": [
        {
          "output_type": "stream",
          "text": [
            "Drive already mounted at /content/drive; to attempt to forcibly remount, call drive.mount(\"/content/drive\", force_remount=True).\n"
          ],
          "name": "stdout"
        }
      ]
    },
    {
      "cell_type": "code",
      "metadata": {
        "id": "N9OeV5BErHhq"
      },
      "source": [
        "# load from drive folder (on Google Colab)\n",
        "drift_data_test = pd.read_csv('/content/drive/MyDrive/Hackathon/DRIFT_DATA_TEST.csv')\n",
        "drift_data_train = pd.read_csv('/content/drive/MyDrive/Hackathon/DRIFT_DATA_TRAIN.csv')"
      ],
      "execution_count": null,
      "outputs": []
    },
    {
      "cell_type": "code",
      "metadata": {
        "colab": {
          "base_uri": "https://localhost:8080/",
          "height": 195
        },
        "id": "zNtIzUi2rr_U",
        "outputId": "64c8c453-0e5f-4111-dd26-89429f4839bb"
      },
      "source": [
        "drift_data_train.head()"
      ],
      "execution_count": null,
      "outputs": [
        {
          "output_type": "execute_result",
          "data": {
            "text/html": [
              "<div>\n",
              "<style scoped>\n",
              "    .dataframe tbody tr th:only-of-type {\n",
              "        vertical-align: middle;\n",
              "    }\n",
              "\n",
              "    .dataframe tbody tr th {\n",
              "        vertical-align: top;\n",
              "    }\n",
              "\n",
              "    .dataframe thead th {\n",
              "        text-align: right;\n",
              "    }\n",
              "</style>\n",
              "<table border=\"1\" class=\"dataframe\">\n",
              "  <thead>\n",
              "    <tr style=\"text-align: right;\">\n",
              "      <th></th>\n",
              "      <th>year</th>\n",
              "      <th>month</th>\n",
              "      <th>day</th>\n",
              "      <th>doy</th>\n",
              "      <th>x_EASE</th>\n",
              "      <th>y_EASE</th>\n",
              "      <th>u_buoy</th>\n",
              "      <th>v_buoy</th>\n",
              "      <th>id_buoy</th>\n",
              "      <th>u_ERA5</th>\n",
              "      <th>v_ERA5</th>\n",
              "      <th>sic_CDR</th>\n",
              "      <th>h_cs2smos</th>\n",
              "      <th>h_piomas</th>\n",
              "      <th>d2c</th>\n",
              "    </tr>\n",
              "  </thead>\n",
              "  <tbody>\n",
              "    <tr>\n",
              "      <th>0</th>\n",
              "      <td>1979</td>\n",
              "      <td>2</td>\n",
              "      <td>18</td>\n",
              "      <td>49</td>\n",
              "      <td>147.506958</td>\n",
              "      <td>138.582672</td>\n",
              "      <td>-0.797554</td>\n",
              "      <td>1.114740</td>\n",
              "      <td>1906</td>\n",
              "      <td>-6.704156</td>\n",
              "      <td>-0.321260</td>\n",
              "      <td>0.990195</td>\n",
              "      <td>NaN</td>\n",
              "      <td>3.189743</td>\n",
              "      <td>522.523298</td>\n",
              "    </tr>\n",
              "    <tr>\n",
              "      <th>1</th>\n",
              "      <td>1979</td>\n",
              "      <td>2</td>\n",
              "      <td>18</td>\n",
              "      <td>49</td>\n",
              "      <td>146.834778</td>\n",
              "      <td>120.509880</td>\n",
              "      <td>0.643200</td>\n",
              "      <td>0.368754</td>\n",
              "      <td>1913</td>\n",
              "      <td>-6.818630</td>\n",
              "      <td>-0.674205</td>\n",
              "      <td>0.966372</td>\n",
              "      <td>NaN</td>\n",
              "      <td>2.484009</td>\n",
              "      <td>412.767669</td>\n",
              "    </tr>\n",
              "    <tr>\n",
              "      <th>2</th>\n",
              "      <td>1979</td>\n",
              "      <td>2</td>\n",
              "      <td>18</td>\n",
              "      <td>49</td>\n",
              "      <td>130.993561</td>\n",
              "      <td>129.623672</td>\n",
              "      <td>-1.162420</td>\n",
              "      <td>0.243717</td>\n",
              "      <td>1914</td>\n",
              "      <td>-8.825469</td>\n",
              "      <td>1.123955</td>\n",
              "      <td>0.996022</td>\n",
              "      <td>NaN</td>\n",
              "      <td>2.474106</td>\n",
              "      <td>362.547379</td>\n",
              "    </tr>\n",
              "    <tr>\n",
              "      <th>3</th>\n",
              "      <td>1979</td>\n",
              "      <td>2</td>\n",
              "      <td>18</td>\n",
              "      <td>49</td>\n",
              "      <td>147.524719</td>\n",
              "      <td>157.382492</td>\n",
              "      <td>0.919766</td>\n",
              "      <td>0.025784</td>\n",
              "      <td>1918</td>\n",
              "      <td>-1.079951</td>\n",
              "      <td>-1.035410</td>\n",
              "      <td>0.982681</td>\n",
              "      <td>NaN</td>\n",
              "      <td>3.740522</td>\n",
              "      <td>381.025629</td>\n",
              "    </tr>\n",
              "    <tr>\n",
              "      <th>4</th>\n",
              "      <td>1979</td>\n",
              "      <td>2</td>\n",
              "      <td>19</td>\n",
              "      <td>50</td>\n",
              "      <td>147.470963</td>\n",
              "      <td>138.599823</td>\n",
              "      <td>0.380940</td>\n",
              "      <td>1.243485</td>\n",
              "      <td>1906</td>\n",
              "      <td>-2.169171</td>\n",
              "      <td>2.537787</td>\n",
              "      <td>0.990302</td>\n",
              "      <td>NaN</td>\n",
              "      <td>3.188522</td>\n",
              "      <td>521.535334</td>\n",
              "    </tr>\n",
              "  </tbody>\n",
              "</table>\n",
              "</div>"
            ],
            "text/plain": [
              "   year  month  day  doy  ...   sic_CDR  h_cs2smos  h_piomas         d2c\n",
              "0  1979      2   18   49  ...  0.990195        NaN  3.189743  522.523298\n",
              "1  1979      2   18   49  ...  0.966372        NaN  2.484009  412.767669\n",
              "2  1979      2   18   49  ...  0.996022        NaN  2.474106  362.547379\n",
              "3  1979      2   18   49  ...  0.982681        NaN  3.740522  381.025629\n",
              "4  1979      2   19   50  ...  0.990302        NaN  3.188522  521.535334\n",
              "\n",
              "[5 rows x 15 columns]"
            ]
          },
          "metadata": {
            "tags": []
          },
          "execution_count": 5
        }
      ]
    },
    {
      "cell_type": "code",
      "metadata": {
        "id": "WLIBc22-ryZl",
        "colab": {
          "base_uri": "https://localhost:8080/",
          "height": 195
        },
        "outputId": "d16a846e-611a-4d07-c663-e5883b268cb3"
      },
      "source": [
        "drift_data_test.head()"
      ],
      "execution_count": null,
      "outputs": [
        {
          "output_type": "execute_result",
          "data": {
            "text/html": [
              "<div>\n",
              "<style scoped>\n",
              "    .dataframe tbody tr th:only-of-type {\n",
              "        vertical-align: middle;\n",
              "    }\n",
              "\n",
              "    .dataframe tbody tr th {\n",
              "        vertical-align: top;\n",
              "    }\n",
              "\n",
              "    .dataframe thead th {\n",
              "        text-align: right;\n",
              "    }\n",
              "</style>\n",
              "<table border=\"1\" class=\"dataframe\">\n",
              "  <thead>\n",
              "    <tr style=\"text-align: right;\">\n",
              "      <th></th>\n",
              "      <th>year</th>\n",
              "      <th>month</th>\n",
              "      <th>day</th>\n",
              "      <th>doy</th>\n",
              "      <th>x_EASE</th>\n",
              "      <th>y_EASE</th>\n",
              "      <th>u_buoy</th>\n",
              "      <th>v_buoy</th>\n",
              "      <th>id_buoy</th>\n",
              "      <th>u_ERA5</th>\n",
              "      <th>v_ERA5</th>\n",
              "      <th>sic_CDR</th>\n",
              "      <th>h_cs2smos</th>\n",
              "      <th>h_piomas</th>\n",
              "      <th>d2c</th>\n",
              "    </tr>\n",
              "  </thead>\n",
              "  <tbody>\n",
              "    <tr>\n",
              "      <th>0</th>\n",
              "      <td>1979</td>\n",
              "      <td>2</td>\n",
              "      <td>18</td>\n",
              "      <td>49</td>\n",
              "      <td>197.656311</td>\n",
              "      <td>204.507797</td>\n",
              "      <td>NaN</td>\n",
              "      <td>NaN</td>\n",
              "      <td>NaN</td>\n",
              "      <td>5.998414</td>\n",
              "      <td>3.617303</td>\n",
              "      <td>0.987723</td>\n",
              "      <td>NaN</td>\n",
              "      <td>2.535649</td>\n",
              "      <td>375.766965</td>\n",
              "    </tr>\n",
              "    <tr>\n",
              "      <th>1</th>\n",
              "      <td>1979</td>\n",
              "      <td>2</td>\n",
              "      <td>19</td>\n",
              "      <td>50</td>\n",
              "      <td>197.769897</td>\n",
              "      <td>204.840912</td>\n",
              "      <td>NaN</td>\n",
              "      <td>NaN</td>\n",
              "      <td>NaN</td>\n",
              "      <td>-1.414826</td>\n",
              "      <td>-0.201038</td>\n",
              "      <td>0.964051</td>\n",
              "      <td>NaN</td>\n",
              "      <td>2.539519</td>\n",
              "      <td>370.636136</td>\n",
              "    </tr>\n",
              "    <tr>\n",
              "      <th>2</th>\n",
              "      <td>1979</td>\n",
              "      <td>2</td>\n",
              "      <td>19</td>\n",
              "      <td>50</td>\n",
              "      <td>147.548553</td>\n",
              "      <td>157.382889</td>\n",
              "      <td>NaN</td>\n",
              "      <td>NaN</td>\n",
              "      <td>NaN</td>\n",
              "      <td>-4.140861</td>\n",
              "      <td>3.038851</td>\n",
              "      <td>1.000000</td>\n",
              "      <td>NaN</td>\n",
              "      <td>3.746467</td>\n",
              "      <td>381.590523</td>\n",
              "    </tr>\n",
              "    <tr>\n",
              "      <th>3</th>\n",
              "      <td>1979</td>\n",
              "      <td>2</td>\n",
              "      <td>20</td>\n",
              "      <td>51</td>\n",
              "      <td>146.934814</td>\n",
              "      <td>120.546783</td>\n",
              "      <td>NaN</td>\n",
              "      <td>NaN</td>\n",
              "      <td>NaN</td>\n",
              "      <td>2.998362</td>\n",
              "      <td>4.055094</td>\n",
              "      <td>1.000000</td>\n",
              "      <td>NaN</td>\n",
              "      <td>2.496566</td>\n",
              "      <td>413.672796</td>\n",
              "    </tr>\n",
              "    <tr>\n",
              "      <th>4</th>\n",
              "      <td>1979</td>\n",
              "      <td>2</td>\n",
              "      <td>21</td>\n",
              "      <td>52</td>\n",
              "      <td>197.534439</td>\n",
              "      <td>204.845886</td>\n",
              "      <td>NaN</td>\n",
              "      <td>NaN</td>\n",
              "      <td>NaN</td>\n",
              "      <td>-8.538108</td>\n",
              "      <td>4.243983</td>\n",
              "      <td>0.978987</td>\n",
              "      <td>NaN</td>\n",
              "      <td>2.530706</td>\n",
              "      <td>376.255493</td>\n",
              "    </tr>\n",
              "  </tbody>\n",
              "</table>\n",
              "</div>"
            ],
            "text/plain": [
              "   year  month  day  doy  ...   sic_CDR  h_cs2smos  h_piomas         d2c\n",
              "0  1979      2   18   49  ...  0.987723        NaN  2.535649  375.766965\n",
              "1  1979      2   19   50  ...  0.964051        NaN  2.539519  370.636136\n",
              "2  1979      2   19   50  ...  1.000000        NaN  3.746467  381.590523\n",
              "3  1979      2   20   51  ...  1.000000        NaN  2.496566  413.672796\n",
              "4  1979      2   21   52  ...  0.978987        NaN  2.530706  376.255493\n",
              "\n",
              "[5 rows x 15 columns]"
            ]
          },
          "metadata": {
            "tags": []
          },
          "execution_count": 6
        }
      ]
    },
    {
      "cell_type": "code",
      "metadata": {
        "colab": {
          "base_uri": "https://localhost:8080/",
          "height": 491
        },
        "id": "CdxMzQier1B8",
        "outputId": "43286a44-be47-4e3b-d69a-d9880e8a12e9"
      },
      "source": [
        "drift_data_train.describe().transpose()"
      ],
      "execution_count": null,
      "outputs": [
        {
          "output_type": "execute_result",
          "data": {
            "text/html": [
              "<div>\n",
              "<style scoped>\n",
              "    .dataframe tbody tr th:only-of-type {\n",
              "        vertical-align: middle;\n",
              "    }\n",
              "\n",
              "    .dataframe tbody tr th {\n",
              "        vertical-align: top;\n",
              "    }\n",
              "\n",
              "    .dataframe thead th {\n",
              "        text-align: right;\n",
              "    }\n",
              "</style>\n",
              "<table border=\"1\" class=\"dataframe\">\n",
              "  <thead>\n",
              "    <tr style=\"text-align: right;\">\n",
              "      <th></th>\n",
              "      <th>count</th>\n",
              "      <th>mean</th>\n",
              "      <th>std</th>\n",
              "      <th>min</th>\n",
              "      <th>25%</th>\n",
              "      <th>50%</th>\n",
              "      <th>75%</th>\n",
              "      <th>max</th>\n",
              "    </tr>\n",
              "  </thead>\n",
              "  <tbody>\n",
              "    <tr>\n",
              "      <th>year</th>\n",
              "      <td>339478.0</td>\n",
              "      <td>2007.013774</td>\n",
              "      <td>9.822726</td>\n",
              "      <td>1979.000000</td>\n",
              "      <td>2000.000000</td>\n",
              "      <td>2009.000000</td>\n",
              "      <td>2015.000000</td>\n",
              "      <td>2019.000000</td>\n",
              "    </tr>\n",
              "    <tr>\n",
              "      <th>month</th>\n",
              "      <td>339478.0</td>\n",
              "      <td>6.749374</td>\n",
              "      <td>3.454148</td>\n",
              "      <td>1.000000</td>\n",
              "      <td>4.000000</td>\n",
              "      <td>7.000000</td>\n",
              "      <td>10.000000</td>\n",
              "      <td>12.000000</td>\n",
              "    </tr>\n",
              "    <tr>\n",
              "      <th>day</th>\n",
              "      <td>339478.0</td>\n",
              "      <td>15.744955</td>\n",
              "      <td>8.752622</td>\n",
              "      <td>1.000000</td>\n",
              "      <td>8.000000</td>\n",
              "      <td>16.000000</td>\n",
              "      <td>23.000000</td>\n",
              "      <td>31.000000</td>\n",
              "    </tr>\n",
              "    <tr>\n",
              "      <th>doy</th>\n",
              "      <td>339478.0</td>\n",
              "      <td>190.020314</td>\n",
              "      <td>105.562830</td>\n",
              "      <td>1.000000</td>\n",
              "      <td>101.000000</td>\n",
              "      <td>190.000000</td>\n",
              "      <td>285.000000</td>\n",
              "      <td>364.000000</td>\n",
              "    </tr>\n",
              "    <tr>\n",
              "      <th>x_EASE</th>\n",
              "      <td>339478.0</td>\n",
              "      <td>163.595093</td>\n",
              "      <td>24.451743</td>\n",
              "      <td>39.168983</td>\n",
              "      <td>146.809723</td>\n",
              "      <td>161.223709</td>\n",
              "      <td>181.115864</td>\n",
              "      <td>279.391541</td>\n",
              "    </tr>\n",
              "    <tr>\n",
              "      <th>y_EASE</th>\n",
              "      <td>339478.0</td>\n",
              "      <td>156.507375</td>\n",
              "      <td>34.697790</td>\n",
              "      <td>36.870293</td>\n",
              "      <td>129.208836</td>\n",
              "      <td>152.350731</td>\n",
              "      <td>179.608978</td>\n",
              "      <td>279.562073</td>\n",
              "    </tr>\n",
              "    <tr>\n",
              "      <th>u_buoy</th>\n",
              "      <td>339478.0</td>\n",
              "      <td>-0.333029</td>\n",
              "      <td>8.072700</td>\n",
              "      <td>-74.682899</td>\n",
              "      <td>-3.722860</td>\n",
              "      <td>-0.024725</td>\n",
              "      <td>2.942216</td>\n",
              "      <td>68.396103</td>\n",
              "    </tr>\n",
              "    <tr>\n",
              "      <th>v_buoy</th>\n",
              "      <td>339478.0</td>\n",
              "      <td>1.359709</td>\n",
              "      <td>7.860918</td>\n",
              "      <td>-66.781601</td>\n",
              "      <td>-2.325024</td>\n",
              "      <td>0.322306</td>\n",
              "      <td>4.969131</td>\n",
              "      <td>68.639801</td>\n",
              "    </tr>\n",
              "    <tr>\n",
              "      <th>id_buoy</th>\n",
              "      <td>339478.0</td>\n",
              "      <td>35576.107397</td>\n",
              "      <td>31444.526635</td>\n",
              "      <td>0.000000</td>\n",
              "      <td>7408.000000</td>\n",
              "      <td>26150.000000</td>\n",
              "      <td>64878.000000</td>\n",
              "      <td>99800.000000</td>\n",
              "    </tr>\n",
              "    <tr>\n",
              "      <th>u_ERA5</th>\n",
              "      <td>339478.0</td>\n",
              "      <td>-0.096208</td>\n",
              "      <td>4.319904</td>\n",
              "      <td>-23.084634</td>\n",
              "      <td>-3.149262</td>\n",
              "      <td>-0.165074</td>\n",
              "      <td>2.934149</td>\n",
              "      <td>17.911558</td>\n",
              "    </tr>\n",
              "    <tr>\n",
              "      <th>v_ERA5</th>\n",
              "      <td>339478.0</td>\n",
              "      <td>0.335691</td>\n",
              "      <td>4.124477</td>\n",
              "      <td>-20.146717</td>\n",
              "      <td>-2.617482</td>\n",
              "      <td>0.289388</td>\n",
              "      <td>3.204041</td>\n",
              "      <td>22.862028</td>\n",
              "    </tr>\n",
              "    <tr>\n",
              "      <th>sic_CDR</th>\n",
              "      <td>339478.0</td>\n",
              "      <td>0.955278</td>\n",
              "      <td>0.124625</td>\n",
              "      <td>0.000027</td>\n",
              "      <td>0.976706</td>\n",
              "      <td>1.000000</td>\n",
              "      <td>1.000000</td>\n",
              "      <td>1.000000</td>\n",
              "    </tr>\n",
              "    <tr>\n",
              "      <th>h_cs2smos</th>\n",
              "      <td>72768.0</td>\n",
              "      <td>1.774036</td>\n",
              "      <td>0.800483</td>\n",
              "      <td>0.016601</td>\n",
              "      <td>1.215125</td>\n",
              "      <td>1.733047</td>\n",
              "      <td>2.284967</td>\n",
              "      <td>4.930797</td>\n",
              "    </tr>\n",
              "    <tr>\n",
              "      <th>h_piomas</th>\n",
              "      <td>339478.0</td>\n",
              "      <td>2.069873</td>\n",
              "      <td>0.922070</td>\n",
              "      <td>0.000000</td>\n",
              "      <td>1.478507</td>\n",
              "      <td>2.041238</td>\n",
              "      <td>2.619901</td>\n",
              "      <td>6.284669</td>\n",
              "    </tr>\n",
              "    <tr>\n",
              "      <th>d2c</th>\n",
              "      <td>339478.0</td>\n",
              "      <td>418.132032</td>\n",
              "      <td>259.827915</td>\n",
              "      <td>0.359009</td>\n",
              "      <td>210.220330</td>\n",
              "      <td>389.570385</td>\n",
              "      <td>599.120875</td>\n",
              "      <td>1120.364872</td>\n",
              "    </tr>\n",
              "  </tbody>\n",
              "</table>\n",
              "</div>"
            ],
            "text/plain": [
              "              count          mean  ...           75%           max\n",
              "year       339478.0   2007.013774  ...   2015.000000   2019.000000\n",
              "month      339478.0      6.749374  ...     10.000000     12.000000\n",
              "day        339478.0     15.744955  ...     23.000000     31.000000\n",
              "doy        339478.0    190.020314  ...    285.000000    364.000000\n",
              "x_EASE     339478.0    163.595093  ...    181.115864    279.391541\n",
              "y_EASE     339478.0    156.507375  ...    179.608978    279.562073\n",
              "u_buoy     339478.0     -0.333029  ...      2.942216     68.396103\n",
              "v_buoy     339478.0      1.359709  ...      4.969131     68.639801\n",
              "id_buoy    339478.0  35576.107397  ...  64878.000000  99800.000000\n",
              "u_ERA5     339478.0     -0.096208  ...      2.934149     17.911558\n",
              "v_ERA5     339478.0      0.335691  ...      3.204041     22.862028\n",
              "sic_CDR    339478.0      0.955278  ...      1.000000      1.000000\n",
              "h_cs2smos   72768.0      1.774036  ...      2.284967      4.930797\n",
              "h_piomas   339478.0      2.069873  ...      2.619901      6.284669\n",
              "d2c        339478.0    418.132032  ...    599.120875   1120.364872\n",
              "\n",
              "[15 rows x 8 columns]"
            ]
          },
          "metadata": {
            "tags": []
          },
          "execution_count": 7
        }
      ]
    },
    {
      "cell_type": "code",
      "metadata": {
        "id": "GzHE2HxatWpG"
      },
      "source": [
        "date_time = pd.to_datetime([\"{}.{}.{}\".format(day, month, year) for day, month, year \n",
        " in zip(drift_data_train.day, drift_data_train.month, drift_data_train.year)], format='%d.%m.%Y')"
      ],
      "execution_count": null,
      "outputs": []
    },
    {
      "cell_type": "code",
      "metadata": {
        "id": "UNN2lzgQAH67"
      },
      "source": [
        "# include the periodicity/seasonality information from the Fourier analysis (see other notebook):\r\n",
        "drift_data_train[\"year_sin\"] = np.sin(drift_data_train[\"doy\"] * (2 * np.pi / 364))\r\n",
        "drift_data_train[\"year_cos\"] = np.cos(drift_data_train[\"doy\"] * (2 * np.pi / 364))\r\n",
        "\r\n",
        "# include norm of the wind velocities as data:\r\n",
        "drift_data_train[\"wind_norm\"] = np.sqrt(drift_data_train[\"u_ERA5\"].values**2 + drift_data_train[\"v_ERA5\"].values**2)"
      ],
      "execution_count": 11,
      "outputs": []
    },
    {
      "cell_type": "markdown",
      "metadata": {
        "id": "VR6yDifEJ2qN"
      },
      "source": [
        "**Train-test split:**"
      ]
    },
    {
      "cell_type": "code",
      "metadata": {
        "id": "o9irXxWZueVD"
      },
      "source": [
        "from sklearn.model_selection import train_test_split\r\n",
        "\r\n",
        "data = drift_data_train[[\"year_sin\", \"year_cos\", \"wind_norm\", \"x_EASE\",\t\"y_EASE\",\t\"u_buoy\",\t\"v_buoy\",\t\"u_ERA5\",\t\"v_ERA5\",\t\"sic_CDR\",\t\"h_piomas\",\t\"d2c\"]]\r\n",
        "\r\n",
        "# split the data:\r\n",
        "train, test = train_test_split(data, test_size=0.2)"
      ],
      "execution_count": 12,
      "outputs": []
    },
    {
      "cell_type": "markdown",
      "metadata": {
        "id": "IWYNQzz_JxzF"
      },
      "source": [
        "**Options for the training set:**"
      ]
    },
    {
      "cell_type": "code",
      "metadata": {
        "id": "Zut1mL37JvPR"
      },
      "source": [
        "# using all standard variables + sin/cos:\r\n",
        "train_set = train[[\"year_sin\", \"year_cos\", \"x_EASE\",\t\"y_EASE\", \"u_ERA5\",\t\"v_ERA5\",\t\"sic_CDR\", \"h_piomas\",\t\"d2c\"]].copy(deep=True)\r\n",
        "\r\n",
        "# Experimental train_sets:\r\n",
        "# train_set = train[[\"x_EASE\",\t\"y_EASE\", \"u_ERA5\",\t\"v_ERA5\",\t\"sic_CDR\",\t\"h_piomas\",\t\"d2c\"]]  # no forced seasonality\r\n",
        "# train_set = train[[\"year_sin\", \"year_cos\", \"wind_norm\", \"x_EASE\",\t\"y_EASE\", \"u_ERA5\",\t\"v_ERA5\",\t\"sic_CDR\",\t\"h_piomas\",\t\"d2c\"]]  # add wind_norm\r\n",
        "# train_set = train[[\"year_sin\", \"year_cos\", \"wind_norm\", \"x_EASE\",\t\"y_EASE\",\t\"sic_CDR\",\t\"h_piomas\",\t\"d2c\"]]  # only windnorm, no x, y components\r\n",
        "# train_set = train[[\"u_ERA5\",\t\"v_ERA5\"]]  # check relationship by using only the wind velocities\r\n",
        "\r\n",
        "# Using both outputs, U and V:\r\n",
        "# train_labels = train[[\"u_buoy\",\t\"v_buoy\"]]\r\n",
        "\r\n",
        "# Using only the norm as output:\r\n",
        "train_labels = np.sqrt(train[\"u_buoy\"].values**2 + train[\"v_buoy\"].values**2)"
      ],
      "execution_count": 13,
      "outputs": []
    },
    {
      "cell_type": "markdown",
      "metadata": {
        "id": "oA2NIx6fJ_nw"
      },
      "source": [
        "**Same options for the test set:**"
      ]
    },
    {
      "cell_type": "code",
      "metadata": {
        "id": "Rc95R5e6JiFY"
      },
      "source": [
        "test_set = test[[\"year_sin\", \"year_cos\", \"x_EASE\",\t\"y_EASE\", \"u_ERA5\",\t\"v_ERA5\",\t\"sic_CDR\",\t\"h_piomas\",\t\"d2c\"]].copy(deep=True)\r\n",
        "# test_set = test[[\"x_EASE\",\t\"y_EASE\", \"u_ERA5\",\t\"v_ERA5\",\t\"sic_CDR\",\t\"h_piomas\",\t\"d2c\"]]\r\n",
        "# test_set = test[[\"year_sin\", \"year_cos\", \"wind_norm\", \"x_EASE\",\t\"y_EASE\", \"u_ERA5\",\t\"v_ERA5\",\t\"sic_CDR\",\t\"h_piomas\",\t\"d2c\"]]\r\n",
        "# test_set = test[[\"year_sin\", \"year_cos\", \"wind_norm\", \"x_EASE\",\t\"y_EASE\", \"sic_CDR\",\t\"h_piomas\",\t\"d2c\"]]\r\n",
        "# test_set = test[[\"u_ERA5\",\t\"v_ERA5\"]]\r\n",
        "\r\n",
        "# test_labels = test[[\"u_buoy\",\t\"v_buoy\"]]\r\n",
        "test_labels = np.sqrt(test[\"u_buoy\"].values**2 + test[\"v_buoy\"].values**2)"
      ],
      "execution_count": 14,
      "outputs": []
    },
    {
      "cell_type": "markdown",
      "metadata": {
        "id": "B5AuzUs6KXaZ"
      },
      "source": [
        "**Building the neural network model**"
      ]
    },
    {
      "cell_type": "code",
      "metadata": {
        "id": "b87ew-ah31tJ"
      },
      "source": [
        "# normalization of input variables:\r\n",
        "normalizer = preprocessing.Normalization()\r\n",
        "normalizer.adapt(np.array(train_set))"
      ],
      "execution_count": 15,
      "outputs": []
    },
    {
      "cell_type": "code",
      "metadata": {
        "id": "m5xc8pN38kVH",
        "colab": {
          "base_uri": "https://localhost:8080/",
          "height": 426
        },
        "outputId": "6b453620-c847-4ec8-cd00-18efce1d97ed"
      },
      "source": [
        "# visualize normalized data ranges:\r\n",
        "df_std = pd.DataFrame(np.array(normalizer(train_set))).melt(var_name='Column', value_name='Normalized')\r\n",
        "\r\n",
        "plt.figure(figsize=(12, 6))\r\n",
        "ax = sns.violinplot(x='Column', y='Normalized', data=df_std)\r\n",
        "_ = ax.set_xticklabels(train_set.keys(), rotation=90)"
      ],
      "execution_count": 16,
      "outputs": [
        {
          "output_type": "display_data",
          "data": {
            "image/png": "[encoded data removed]",
            "text/plain": [
              "<Figure size 864x432 with 1 Axes>"
            ]
          },
          "metadata": {
            "tags": [],
            "needs_background": "light"
          }
        }
      ]
    },
    {
      "cell_type": "markdown",
      "metadata": {
        "id": "fMZh9sOiKo-R"
      },
      "source": [
        "We center the outputs as well for better performance. It's important to note that the outputs of the neural network afterwards need to be decentered with '`+ norm_mean`' afterwards for sensible predictions!"
      ]
    },
    {
      "cell_type": "code",
      "metadata": {
        "id": "KpWCBjOPhung",
        "colab": {
          "base_uri": "https://localhost:8080/"
        },
        "outputId": "dbc15b68-8b4a-4482-a8c4-02013dc977aa"
      },
      "source": [
        "norm_mean = np.mean(train_labels)\r\n",
        "norm_stdev = np.std(train_labels)\r\n",
        "print(norm_mean)\r\n",
        "print(norm_stdev)\r\n",
        "\r\n",
        "train_labels = (train_labels - norm_mean)\r\n",
        "test_labels = (test_labels - norm_mean)"
      ],
      "execution_count": 17,
      "outputs": [
        {
          "output_type": "stream",
          "text": [
            "8.350506078212343\n",
            "7.673665386674215\n"
          ],
          "name": "stdout"
        }
      ]
    },
    {
      "cell_type": "markdown",
      "metadata": {
        "id": "kwSjvAPSLLFi"
      },
      "source": [
        "We build the custom root mean square loss function that is specified as the criterion by Charles Brunette:"
      ]
    },
    {
      "cell_type": "code",
      "metadata": {
        "id": "apINFyEAWDoD"
      },
      "source": [
        "from keras import backend as K\r\n",
        "\r\n",
        "def root_mean_squared_error(y_true, y_pred):\r\n",
        "    return K.sqrt(K.mean(K.square(y_pred - y_true))) "
      ],
      "execution_count": 18,
      "outputs": []
    },
    {
      "cell_type": "code",
      "metadata": {
        "id": "2QvHlOn4s2P_"
      },
      "source": [
        "# Define Sequential model with 3 layers\r\n",
        "model = keras.Sequential(\r\n",
        "    [\r\n",
        "        normalizer,\r\n",
        "        layers.Dense(128, activation=\"relu\"),\r\n",
        "        layers.Dense(128, activation=\"relu\"),\r\n",
        "        layers.Dense(64, activation=\"relu\"),\r\n",
        "        layers.Dense(32, activation=\"relu\"),\r\n",
        "        layers.Dense(1),\r\n",
        "    ])\r\n",
        "\r\n",
        "model.compile(\r\n",
        "    optimizer=tf.optimizers.Adam(learning_rate=0.001),\r\n",
        "    loss=root_mean_squared_error,\r\n",
        "    # loss=\"mse\"\r\n",
        "    )"
      ],
      "execution_count": 19,
      "outputs": []
    },
    {
      "cell_type": "markdown",
      "metadata": {
        "id": "wBvXQgSKMxBk"
      },
      "source": [
        "**All right, let's train!**"
      ]
    },
    {
      "cell_type": "code",
      "metadata": {
        "id": "RnsoQbaxwr1r"
      },
      "source": [
        "history = model.fit(\r\n",
        "    x=train_set, y=train_labels,\r\n",
        "    epochs=100,\r\n",
        "    verbose=1,\r\n",
        "    validation_split=0.2\r\n",
        "    )"
      ],
      "execution_count": null,
      "outputs": []
    },
    {
      "cell_type": "markdown",
      "metadata": {
        "id": "Y9vlvNsmL85W"
      },
      "source": [
        "Let's test our trained model on our held-out test samples:"
      ]
    },
    {
      "cell_type": "code",
      "metadata": {
        "id": "_AV2gkI8x9j3"
      },
      "source": [
        "test_predictions = model.predict(test_set)"
      ],
      "execution_count": 21,
      "outputs": []
    },
    {
      "cell_type": "markdown",
      "metadata": {
        "id": "vM86HN0lMD6N"
      },
      "source": [
        "Calculate the root mean square error, the mean absolute error and the mean error:"
      ]
    },
    {
      "cell_type": "code",
      "metadata": {
        "id": "Mri0ia2fk4zj",
        "colab": {
          "base_uri": "https://localhost:8080/"
        },
        "outputId": "e0073f94-f268-46e6-a945-390c1e9cbc0a"
      },
      "source": [
        "### for norms with scaled outputs:\r\n",
        "preds = np.array(test_predictions).flatten() + norm_mean\r\n",
        "\r\n",
        "rmse_errors = []\r\n",
        "mae_errors = []\r\n",
        "me_errors = []\r\n",
        "for i, pred in enumerate(preds):\r\n",
        "  mae_errors.append(np.abs(pred - (test_labels[i] + norm_mean)))\r\n",
        "  me_errors.append(pred - (test_labels[i] + norm_mean))\r\n",
        "  rmse_errors.append((pred - (test_labels[i] + norm_mean))**2)\r\n",
        "\r\n",
        "print(\"rmse: \", np.sqrt(np.mean(rmse_errors)))\r\n",
        "print(\"mae: \", np.mean(mae_errors))\r\n",
        "print(\"me: \", np.mean(me_errors))"
      ],
      "execution_count": 22,
      "outputs": [
        {
          "output_type": "stream",
          "text": [
            "rmse:  4.324381972107585\n",
            "mae:  2.8158855641337275\n",
            "me:  -0.1112000423352805\n"
          ],
          "name": "stdout"
        }
      ]
    },
    {
      "cell_type": "markdown",
      "metadata": {
        "id": "ZyOfcB99OP-y"
      },
      "source": [
        "## Submission test"
      ]
    },
    {
      "cell_type": "markdown",
      "metadata": {
        "id": "1TihY0pTMmLz"
      },
      "source": [
        "The following code is for inferencing on the actual test set for which we don't have labels (i.e., the one we have to submit):"
      ]
    },
    {
      "cell_type": "code",
      "metadata": {
        "id": "Lm1b0s05hjx8"
      },
      "source": [
        "# include the periodicity/seasonality information from the Fourier analysis:\r\n",
        "drift_data_test[\"year_sin\"] = np.sin(drift_data_test[\"doy\"] * (2 * np.pi / 364))\r\n",
        "drift_data_test[\"year_cos\"] = np.cos(drift_data_test[\"doy\"] * (2 * np.pi / 364))\r\n",
        "\r\n",
        "actual_test_set = drift_data_test[[\"year_sin\", \"year_cos\", \"x_EASE\",\t\"y_EASE\", \"u_ERA5\",\t\"v_ERA5\",\t\"sic_CDR\",\t\"h_piomas\",\t\"d2c\"]].copy(deep=True)"
      ],
      "execution_count": null,
      "outputs": []
    },
    {
      "cell_type": "code",
      "metadata": {
        "id": "PpHIu8gtiEVv"
      },
      "source": [
        "actual_test_predictions = model.predict(actual_test_set)\r\n",
        "actual_test_predictions = np.array(actual_test_predictions + norm_mean)"
      ],
      "execution_count": null,
      "outputs": []
    },
    {
      "cell_type": "markdown",
      "metadata": {
        "id": "OeZGIGsVNEYa"
      },
      "source": [
        "Let's write our predictions to disk and download them:"
      ]
    },
    {
      "cell_type": "code",
      "metadata": {
        "id": "ry5pMvuZkKht"
      },
      "source": [
        "write_away = drift_data_test.drop([\"year_sin\", \"year_cos\"], axis=1)\r\n",
        "write_away[\"vector_length_pred\"] = actual_test_predictions\r\n",
        "write_away.to_csv(\"predictions.csv\")"
      ],
      "execution_count": null,
      "outputs": []
    },
    {
      "cell_type": "markdown",
      "metadata": {
        "id": "-T8PMpa3NNb1"
      },
      "source": [
        "Let's download the model as well:"
      ]
    },
    {
      "cell_type": "code",
      "metadata": {
        "id": "wfn8t-FLXn17"
      },
      "source": [
        "model.save('/content/')"
      ],
      "execution_count": null,
      "outputs": []
    },
    {
      "cell_type": "code",
      "metadata": {
        "id": "nONCuckbYXNh"
      },
      "source": [
        "!zip -r /content/variables.zip /content/variables"
      ],
      "execution_count": null,
      "outputs": []
    },
    {
      "cell_type": "markdown",
      "metadata": {
        "id": "Qs6Q-2MVNkn6"
      },
      "source": [
        "**Let's compare our results with the baseline of always picking the average length:**"
      ]
    },
    {
      "cell_type": "code",
      "metadata": {
        "id": "W5HwCC8oiLsJ"
      },
      "source": [
        "# \"predictor\" predicting always 8.35 for the norm\r\n",
        "preds_avg = np.ones(len(preds)) * 8.35\r\n",
        "\r\n",
        "rmse_errors = []\r\n",
        "mae_errors = []\r\n",
        "for i, pred in enumerate(preds_avg):\r\n",
        "  mae_errors.append(np.abs(pred - test_labels[i]))\r\n",
        "  rmse_errors.append((pred - test_labels[i])**2)\r\n",
        "\r\n",
        "print(\"rmse: \", np.sqrt(np.mean(rmse_errors)))\r\n",
        "print(\"mae: \", np.mean(mae_errors))"
      ],
      "execution_count": null,
      "outputs": []
    },
    {
      "cell_type": "markdown",
      "metadata": {
        "id": "_BPPz8zbNVST"
      },
      "source": [
        "**Code for using the U and V as outputs and calculating the errors**"
      ]
    },
    {
      "cell_type": "code",
      "metadata": {
        "id": "GC_qG3b3K4uu"
      },
      "source": [
        "### calculating the errors on the norm:\r\n",
        "preds = np.array(test_predictions)\r\n",
        "\r\n",
        "rmse_errors = []\r\n",
        "mae_errors = []\r\n",
        "for i, pred in enumerate(preds):\r\n",
        "  mae_errors.append(np.abs(np.linalg.norm(pred) - np.linalg.norm(test_labels.values[i])))\r\n",
        "  rmse_errors.append((np.linalg.norm(pred) - np.linalg.norm(test_labels.values[i]))**2)\r\n",
        "\r\n",
        "print(\"rmse: \", np.sqrt(np.mean(rmse_errors)))\r\n",
        "print(\"mae: \", np.mean(mae_errors))"
      ],
      "execution_count": null,
      "outputs": []
    },
    {
      "cell_type": "code",
      "metadata": {
        "id": "4PJCkSbGXhvT"
      },
      "source": [
        "def convert_to_degrees(angles):\r\n",
        "  return np.array(angles) * 360 / (2 * np.pi)"
      ],
      "execution_count": null,
      "outputs": []
    },
    {
      "cell_type": "code",
      "metadata": {
        "id": "sjfsiLwqLpaC"
      },
      "source": [
        "# calculating the errors on the angles:\r\n",
        "preds = np.array(test_predictions)\r\n",
        "\r\n",
        "angles = []\r\n",
        "angle_errors = []\r\n",
        "for i, pred in enumerate(preds[:]):\r\n",
        "  U_i_norm = pred / np.linalg.norm(pred)\r\n",
        "\r\n",
        "  U_i_true = test[[\"u_buoy\",\t\"v_buoy\"]].values[i]\r\n",
        "  if not np.isclose(np.linalg.norm(U_i_true), 0):\r\n",
        "    U_i_true_norm = U_i_true / np.linalg.norm(U_i_true)\r\n",
        "\r\n",
        "    U_a = test[[\"u_ERA5\",\t\"v_ERA5\"]].values[i]\r\n",
        "    U_a_norm = U_a / np.linalg.norm(U_a)\r\n",
        "\r\n",
        "    dot_product_pred = np.clip(np.dot(U_i_norm, U_a_norm), -0.9999, 0.9999)\r\n",
        "    dot_product_true = np.clip(np.dot(U_i_true_norm, U_a_norm), -0.9999, 0.9999)\r\n",
        "\r\n",
        "    pred_angle = np.arccos(dot_product_pred)\r\n",
        "    true_angle = np.arccos(dot_product_true)\r\n",
        "    angles.append(pred_angle)\r\n",
        "    angle_errors.append(np.abs(pred_angle - true_angle))"
      ],
      "execution_count": null,
      "outputs": []
    },
    {
      "cell_type": "code",
      "metadata": {
        "id": "zgkBL63VPhke"
      },
      "source": [
        "degrees = convert_to_degrees(angles)\r\n",
        "print(\"mean angle: \", np.mean(degrees))\r\n",
        "print(\"rmse: \", np.sqrt(np.mean(convert_to_degrees(angle_errors)**2)))\r\n",
        "print(\"mae: \", np.mean(convert_to_degrees(angle_errors)))"
      ],
      "execution_count": null,
      "outputs": []
    }
  ]
}