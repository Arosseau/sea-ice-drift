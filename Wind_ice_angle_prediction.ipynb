{
  "nbformat": 4,
  "nbformat_minor": 0,
  "metadata": {
    "accelerator": "GPU",
    "colab": {
      "name": "Wind-ice angle prediction",
      "provenance": [],
      "collapsed_sections": []
    },
    "kernelspec": {
      "display_name": "Python 3",
      "name": "python3"
    }
  },
  "cells": [
    {
      "cell_type": "markdown",
      "metadata": {
        "id": "KW00iwr0PVxK"
      },
      "source": [
        "## Neural network: wind-ice angle prediction\r\n",
        "\r\n",
        "This notebook entails the process for predicting the angles between the wind velocity vector and the sea ice drift vector. The experimentation was done in Google Colab, so a few remnants of that should be visible in the code, but can be replaced easily with own folder paths or names."
      ]
    },
    {
      "cell_type": "code",
      "metadata": {
        "id": "6D-CqL6HLfuy"
      },
      "source": [
        "import os\r\n",
        "import datetime\r\n",
        "\r\n",
        "import IPython\r\n",
        "import IPython.display\r\n",
        "import matplotlib as mpl\r\n",
        "import matplotlib.pyplot as plt\r\n",
        "import numpy as np\r\n",
        "import pandas as pd\r\n",
        "import seaborn as sns\r\n",
        "import sklearn\r\n",
        "\r\n",
        "import tensorflow as tf\r\n",
        "from tensorflow import keras\r\n",
        "from tensorflow.keras import layers\r\n",
        "\r\n",
        "from tensorflow.keras.layers.experimental import preprocessing\r\n",
        "\r\n",
        "mpl.rcParams['figure.figsize'] = (10, 8)\r\n",
        "mpl.rcParams['axes.grid'] = False"
      ],
      "execution_count": 1,
      "outputs": []
    },
    {
      "cell_type": "code",
      "metadata": {
        "colab": {
          "base_uri": "https://localhost:8080/"
        },
        "id": "XnS4G4biLHfe",
        "outputId": "4d59a276-81e1-48fe-ee32-eb9e0d2ac05d"
      },
      "source": [
        "# load the dataset from Drive:\r\n",
        "from google.colab import drive\r\n",
        "drive.mount('/content/drive')"
      ],
      "execution_count": 2,
      "outputs": [
        {
          "output_type": "stream",
          "text": [
            "Mounted at /content/drive\n"
          ],
          "name": "stdout"
        }
      ]
    },
    {
      "cell_type": "code",
      "metadata": {
        "id": "N9OeV5BErHhq"
      },
      "source": [
        "# load from drive folder (on Google Colab)\n",
        "drift_data_test = pd.read_csv('/content/drive/MyDrive/Hackathon/DRIFT_DATA_TEST.csv')\n",
        "drift_data_train = pd.read_csv('/content/drive/MyDrive/Hackathon/DRIFT_DATA_TRAIN.csv')"
      ],
      "execution_count": 3,
      "outputs": []
    },
    {
      "cell_type": "code",
      "metadata": {
        "colab": {
          "base_uri": "https://localhost:8080/",
          "height": 195
        },
        "id": "zNtIzUi2rr_U",
        "outputId": "9b60966c-3747-4498-a410-202dc742f520"
      },
      "source": [
        "drift_data_train.head()"
      ],
      "execution_count": null,
      "outputs": [
        {
          "output_type": "execute_result",
          "data": {
            "text/html": [
              "<div>\n",
              "<style scoped>\n",
              "    .dataframe tbody tr th:only-of-type {\n",
              "        vertical-align: middle;\n",
              "    }\n",
              "\n",
              "    .dataframe tbody tr th {\n",
              "        vertical-align: top;\n",
              "    }\n",
              "\n",
              "    .dataframe thead th {\n",
              "        text-align: right;\n",
              "    }\n",
              "</style>\n",
              "<table border=\"1\" class=\"dataframe\">\n",
              "  <thead>\n",
              "    <tr style=\"text-align: right;\">\n",
              "      <th></th>\n",
              "      <th>year</th>\n",
              "      <th>month</th>\n",
              "      <th>day</th>\n",
              "      <th>doy</th>\n",
              "      <th>x_EASE</th>\n",
              "      <th>y_EASE</th>\n",
              "      <th>u_buoy</th>\n",
              "      <th>v_buoy</th>\n",
              "      <th>id_buoy</th>\n",
              "      <th>u_ERA5</th>\n",
              "      <th>v_ERA5</th>\n",
              "      <th>sic_CDR</th>\n",
              "      <th>h_cs2smos</th>\n",
              "      <th>h_piomas</th>\n",
              "      <th>d2c</th>\n",
              "    </tr>\n",
              "  </thead>\n",
              "  <tbody>\n",
              "    <tr>\n",
              "      <th>0</th>\n",
              "      <td>1979</td>\n",
              "      <td>2</td>\n",
              "      <td>18</td>\n",
              "      <td>49</td>\n",
              "      <td>147.506958</td>\n",
              "      <td>138.582672</td>\n",
              "      <td>-0.797554</td>\n",
              "      <td>1.114740</td>\n",
              "      <td>1906</td>\n",
              "      <td>-6.704156</td>\n",
              "      <td>-0.321260</td>\n",
              "      <td>0.990195</td>\n",
              "      <td>NaN</td>\n",
              "      <td>3.189743</td>\n",
              "      <td>522.523298</td>\n",
              "    </tr>\n",
              "    <tr>\n",
              "      <th>1</th>\n",
              "      <td>1979</td>\n",
              "      <td>2</td>\n",
              "      <td>18</td>\n",
              "      <td>49</td>\n",
              "      <td>146.834778</td>\n",
              "      <td>120.509880</td>\n",
              "      <td>0.643200</td>\n",
              "      <td>0.368754</td>\n",
              "      <td>1913</td>\n",
              "      <td>-6.818630</td>\n",
              "      <td>-0.674205</td>\n",
              "      <td>0.966372</td>\n",
              "      <td>NaN</td>\n",
              "      <td>2.484009</td>\n",
              "      <td>412.767669</td>\n",
              "    </tr>\n",
              "    <tr>\n",
              "      <th>2</th>\n",
              "      <td>1979</td>\n",
              "      <td>2</td>\n",
              "      <td>18</td>\n",
              "      <td>49</td>\n",
              "      <td>130.993561</td>\n",
              "      <td>129.623672</td>\n",
              "      <td>-1.162420</td>\n",
              "      <td>0.243717</td>\n",
              "      <td>1914</td>\n",
              "      <td>-8.825469</td>\n",
              "      <td>1.123955</td>\n",
              "      <td>0.996022</td>\n",
              "      <td>NaN</td>\n",
              "      <td>2.474106</td>\n",
              "      <td>362.547379</td>\n",
              "    </tr>\n",
              "    <tr>\n",
              "      <th>3</th>\n",
              "      <td>1979</td>\n",
              "      <td>2</td>\n",
              "      <td>18</td>\n",
              "      <td>49</td>\n",
              "      <td>147.524719</td>\n",
              "      <td>157.382492</td>\n",
              "      <td>0.919766</td>\n",
              "      <td>0.025784</td>\n",
              "      <td>1918</td>\n",
              "      <td>-1.079951</td>\n",
              "      <td>-1.035410</td>\n",
              "      <td>0.982681</td>\n",
              "      <td>NaN</td>\n",
              "      <td>3.740522</td>\n",
              "      <td>381.025629</td>\n",
              "    </tr>\n",
              "    <tr>\n",
              "      <th>4</th>\n",
              "      <td>1979</td>\n",
              "      <td>2</td>\n",
              "      <td>19</td>\n",
              "      <td>50</td>\n",
              "      <td>147.470963</td>\n",
              "      <td>138.599823</td>\n",
              "      <td>0.380940</td>\n",
              "      <td>1.243485</td>\n",
              "      <td>1906</td>\n",
              "      <td>-2.169171</td>\n",
              "      <td>2.537787</td>\n",
              "      <td>0.990302</td>\n",
              "      <td>NaN</td>\n",
              "      <td>3.188522</td>\n",
              "      <td>521.535334</td>\n",
              "    </tr>\n",
              "  </tbody>\n",
              "</table>\n",
              "</div>"
            ],
            "text/plain": [
              "   year  month  day  doy  ...   sic_CDR  h_cs2smos  h_piomas         d2c\n",
              "0  1979      2   18   49  ...  0.990195        NaN  3.189743  522.523298\n",
              "1  1979      2   18   49  ...  0.966372        NaN  2.484009  412.767669\n",
              "2  1979      2   18   49  ...  0.996022        NaN  2.474106  362.547379\n",
              "3  1979      2   18   49  ...  0.982681        NaN  3.740522  381.025629\n",
              "4  1979      2   19   50  ...  0.990302        NaN  3.188522  521.535334\n",
              "\n",
              "[5 rows x 15 columns]"
            ]
          },
          "metadata": {
            "tags": []
          },
          "execution_count": 4
        }
      ]
    },
    {
      "cell_type": "code",
      "metadata": {
        "colab": {
          "base_uri": "https://localhost:8080/",
          "height": 195
        },
        "id": "WLIBc22-ryZl",
        "outputId": "32037d2e-7f78-4444-e0ff-39f5f0495d55"
      },
      "source": [
        "drift_data_test.head()"
      ],
      "execution_count": null,
      "outputs": [
        {
          "output_type": "execute_result",
          "data": {
            "text/html": [
              "<div>\n",
              "<style scoped>\n",
              "    .dataframe tbody tr th:only-of-type {\n",
              "        vertical-align: middle;\n",
              "    }\n",
              "\n",
              "    .dataframe tbody tr th {\n",
              "        vertical-align: top;\n",
              "    }\n",
              "\n",
              "    .dataframe thead th {\n",
              "        text-align: right;\n",
              "    }\n",
              "</style>\n",
              "<table border=\"1\" class=\"dataframe\">\n",
              "  <thead>\n",
              "    <tr style=\"text-align: right;\">\n",
              "      <th></th>\n",
              "      <th>year</th>\n",
              "      <th>month</th>\n",
              "      <th>day</th>\n",
              "      <th>doy</th>\n",
              "      <th>x_EASE</th>\n",
              "      <th>y_EASE</th>\n",
              "      <th>u_buoy</th>\n",
              "      <th>v_buoy</th>\n",
              "      <th>id_buoy</th>\n",
              "      <th>u_ERA5</th>\n",
              "      <th>v_ERA5</th>\n",
              "      <th>sic_CDR</th>\n",
              "      <th>h_cs2smos</th>\n",
              "      <th>h_piomas</th>\n",
              "      <th>d2c</th>\n",
              "    </tr>\n",
              "  </thead>\n",
              "  <tbody>\n",
              "    <tr>\n",
              "      <th>0</th>\n",
              "      <td>1979</td>\n",
              "      <td>2</td>\n",
              "      <td>18</td>\n",
              "      <td>49</td>\n",
              "      <td>197.656311</td>\n",
              "      <td>204.507797</td>\n",
              "      <td>NaN</td>\n",
              "      <td>NaN</td>\n",
              "      <td>NaN</td>\n",
              "      <td>5.998414</td>\n",
              "      <td>3.617303</td>\n",
              "      <td>0.987723</td>\n",
              "      <td>NaN</td>\n",
              "      <td>2.535649</td>\n",
              "      <td>375.766965</td>\n",
              "    </tr>\n",
              "    <tr>\n",
              "      <th>1</th>\n",
              "      <td>1979</td>\n",
              "      <td>2</td>\n",
              "      <td>19</td>\n",
              "      <td>50</td>\n",
              "      <td>197.769897</td>\n",
              "      <td>204.840912</td>\n",
              "      <td>NaN</td>\n",
              "      <td>NaN</td>\n",
              "      <td>NaN</td>\n",
              "      <td>-1.414826</td>\n",
              "      <td>-0.201038</td>\n",
              "      <td>0.964051</td>\n",
              "      <td>NaN</td>\n",
              "      <td>2.539519</td>\n",
              "      <td>370.636136</td>\n",
              "    </tr>\n",
              "    <tr>\n",
              "      <th>2</th>\n",
              "      <td>1979</td>\n",
              "      <td>2</td>\n",
              "      <td>19</td>\n",
              "      <td>50</td>\n",
              "      <td>147.548553</td>\n",
              "      <td>157.382889</td>\n",
              "      <td>NaN</td>\n",
              "      <td>NaN</td>\n",
              "      <td>NaN</td>\n",
              "      <td>-4.140861</td>\n",
              "      <td>3.038851</td>\n",
              "      <td>1.000000</td>\n",
              "      <td>NaN</td>\n",
              "      <td>3.746467</td>\n",
              "      <td>381.590523</td>\n",
              "    </tr>\n",
              "    <tr>\n",
              "      <th>3</th>\n",
              "      <td>1979</td>\n",
              "      <td>2</td>\n",
              "      <td>20</td>\n",
              "      <td>51</td>\n",
              "      <td>146.934814</td>\n",
              "      <td>120.546783</td>\n",
              "      <td>NaN</td>\n",
              "      <td>NaN</td>\n",
              "      <td>NaN</td>\n",
              "      <td>2.998362</td>\n",
              "      <td>4.055094</td>\n",
              "      <td>1.000000</td>\n",
              "      <td>NaN</td>\n",
              "      <td>2.496566</td>\n",
              "      <td>413.672796</td>\n",
              "    </tr>\n",
              "    <tr>\n",
              "      <th>4</th>\n",
              "      <td>1979</td>\n",
              "      <td>2</td>\n",
              "      <td>21</td>\n",
              "      <td>52</td>\n",
              "      <td>197.534439</td>\n",
              "      <td>204.845886</td>\n",
              "      <td>NaN</td>\n",
              "      <td>NaN</td>\n",
              "      <td>NaN</td>\n",
              "      <td>-8.538108</td>\n",
              "      <td>4.243983</td>\n",
              "      <td>0.978987</td>\n",
              "      <td>NaN</td>\n",
              "      <td>2.530706</td>\n",
              "      <td>376.255493</td>\n",
              "    </tr>\n",
              "  </tbody>\n",
              "</table>\n",
              "</div>"
            ],
            "text/plain": [
              "   year  month  day  doy  ...   sic_CDR  h_cs2smos  h_piomas         d2c\n",
              "0  1979      2   18   49  ...  0.987723        NaN  2.535649  375.766965\n",
              "1  1979      2   19   50  ...  0.964051        NaN  2.539519  370.636136\n",
              "2  1979      2   19   50  ...  1.000000        NaN  3.746467  381.590523\n",
              "3  1979      2   20   51  ...  1.000000        NaN  2.496566  413.672796\n",
              "4  1979      2   21   52  ...  0.978987        NaN  2.530706  376.255493\n",
              "\n",
              "[5 rows x 15 columns]"
            ]
          },
          "metadata": {
            "tags": []
          },
          "execution_count": 5
        }
      ]
    },
    {
      "cell_type": "code",
      "metadata": {
        "colab": {
          "base_uri": "https://localhost:8080/",
          "height": 491
        },
        "id": "CdxMzQier1B8",
        "outputId": "0948b148-2ca6-4aae-ee7d-2423ea099ba2"
      },
      "source": [
        "drift_data_train.describe().transpose()"
      ],
      "execution_count": null,
      "outputs": [
        {
          "output_type": "execute_result",
          "data": {
            "text/html": [
              "<div>\n",
              "<style scoped>\n",
              "    .dataframe tbody tr th:only-of-type {\n",
              "        vertical-align: middle;\n",
              "    }\n",
              "\n",
              "    .dataframe tbody tr th {\n",
              "        vertical-align: top;\n",
              "    }\n",
              "\n",
              "    .dataframe thead th {\n",
              "        text-align: right;\n",
              "    }\n",
              "</style>\n",
              "<table border=\"1\" class=\"dataframe\">\n",
              "  <thead>\n",
              "    <tr style=\"text-align: right;\">\n",
              "      <th></th>\n",
              "      <th>count</th>\n",
              "      <th>mean</th>\n",
              "      <th>std</th>\n",
              "      <th>min</th>\n",
              "      <th>25%</th>\n",
              "      <th>50%</th>\n",
              "      <th>75%</th>\n",
              "      <th>max</th>\n",
              "    </tr>\n",
              "  </thead>\n",
              "  <tbody>\n",
              "    <tr>\n",
              "      <th>year</th>\n",
              "      <td>339478.0</td>\n",
              "      <td>2007.013774</td>\n",
              "      <td>9.822726</td>\n",
              "      <td>1979.000000</td>\n",
              "      <td>2000.000000</td>\n",
              "      <td>2009.000000</td>\n",
              "      <td>2015.000000</td>\n",
              "      <td>2019.000000</td>\n",
              "    </tr>\n",
              "    <tr>\n",
              "      <th>month</th>\n",
              "      <td>339478.0</td>\n",
              "      <td>6.749374</td>\n",
              "      <td>3.454148</td>\n",
              "      <td>1.000000</td>\n",
              "      <td>4.000000</td>\n",
              "      <td>7.000000</td>\n",
              "      <td>10.000000</td>\n",
              "      <td>12.000000</td>\n",
              "    </tr>\n",
              "    <tr>\n",
              "      <th>day</th>\n",
              "      <td>339478.0</td>\n",
              "      <td>15.744955</td>\n",
              "      <td>8.752622</td>\n",
              "      <td>1.000000</td>\n",
              "      <td>8.000000</td>\n",
              "      <td>16.000000</td>\n",
              "      <td>23.000000</td>\n",
              "      <td>31.000000</td>\n",
              "    </tr>\n",
              "    <tr>\n",
              "      <th>doy</th>\n",
              "      <td>339478.0</td>\n",
              "      <td>190.020314</td>\n",
              "      <td>105.562830</td>\n",
              "      <td>1.000000</td>\n",
              "      <td>101.000000</td>\n",
              "      <td>190.000000</td>\n",
              "      <td>285.000000</td>\n",
              "      <td>364.000000</td>\n",
              "    </tr>\n",
              "    <tr>\n",
              "      <th>x_EASE</th>\n",
              "      <td>339478.0</td>\n",
              "      <td>163.595093</td>\n",
              "      <td>24.451743</td>\n",
              "      <td>39.168983</td>\n",
              "      <td>146.809723</td>\n",
              "      <td>161.223709</td>\n",
              "      <td>181.115864</td>\n",
              "      <td>279.391541</td>\n",
              "    </tr>\n",
              "    <tr>\n",
              "      <th>y_EASE</th>\n",
              "      <td>339478.0</td>\n",
              "      <td>156.507375</td>\n",
              "      <td>34.697790</td>\n",
              "      <td>36.870293</td>\n",
              "      <td>129.208836</td>\n",
              "      <td>152.350731</td>\n",
              "      <td>179.608978</td>\n",
              "      <td>279.562073</td>\n",
              "    </tr>\n",
              "    <tr>\n",
              "      <th>u_buoy</th>\n",
              "      <td>339478.0</td>\n",
              "      <td>-0.333029</td>\n",
              "      <td>8.072700</td>\n",
              "      <td>-74.682899</td>\n",
              "      <td>-3.722860</td>\n",
              "      <td>-0.024725</td>\n",
              "      <td>2.942216</td>\n",
              "      <td>68.396103</td>\n",
              "    </tr>\n",
              "    <tr>\n",
              "      <th>v_buoy</th>\n",
              "      <td>339478.0</td>\n",
              "      <td>1.359709</td>\n",
              "      <td>7.860918</td>\n",
              "      <td>-66.781601</td>\n",
              "      <td>-2.325024</td>\n",
              "      <td>0.322306</td>\n",
              "      <td>4.969131</td>\n",
              "      <td>68.639801</td>\n",
              "    </tr>\n",
              "    <tr>\n",
              "      <th>id_buoy</th>\n",
              "      <td>339478.0</td>\n",
              "      <td>35576.107397</td>\n",
              "      <td>31444.526635</td>\n",
              "      <td>0.000000</td>\n",
              "      <td>7408.000000</td>\n",
              "      <td>26150.000000</td>\n",
              "      <td>64878.000000</td>\n",
              "      <td>99800.000000</td>\n",
              "    </tr>\n",
              "    <tr>\n",
              "      <th>u_ERA5</th>\n",
              "      <td>339478.0</td>\n",
              "      <td>-0.096208</td>\n",
              "      <td>4.319904</td>\n",
              "      <td>-23.084634</td>\n",
              "      <td>-3.149262</td>\n",
              "      <td>-0.165074</td>\n",
              "      <td>2.934149</td>\n",
              "      <td>17.911558</td>\n",
              "    </tr>\n",
              "    <tr>\n",
              "      <th>v_ERA5</th>\n",
              "      <td>339478.0</td>\n",
              "      <td>0.335691</td>\n",
              "      <td>4.124477</td>\n",
              "      <td>-20.146717</td>\n",
              "      <td>-2.617482</td>\n",
              "      <td>0.289388</td>\n",
              "      <td>3.204041</td>\n",
              "      <td>22.862028</td>\n",
              "    </tr>\n",
              "    <tr>\n",
              "      <th>sic_CDR</th>\n",
              "      <td>339478.0</td>\n",
              "      <td>0.955278</td>\n",
              "      <td>0.124625</td>\n",
              "      <td>0.000027</td>\n",
              "      <td>0.976706</td>\n",
              "      <td>1.000000</td>\n",
              "      <td>1.000000</td>\n",
              "      <td>1.000000</td>\n",
              "    </tr>\n",
              "    <tr>\n",
              "      <th>h_cs2smos</th>\n",
              "      <td>72768.0</td>\n",
              "      <td>1.774036</td>\n",
              "      <td>0.800483</td>\n",
              "      <td>0.016601</td>\n",
              "      <td>1.215125</td>\n",
              "      <td>1.733047</td>\n",
              "      <td>2.284967</td>\n",
              "      <td>4.930797</td>\n",
              "    </tr>\n",
              "    <tr>\n",
              "      <th>h_piomas</th>\n",
              "      <td>339478.0</td>\n",
              "      <td>2.069873</td>\n",
              "      <td>0.922070</td>\n",
              "      <td>0.000000</td>\n",
              "      <td>1.478507</td>\n",
              "      <td>2.041238</td>\n",
              "      <td>2.619901</td>\n",
              "      <td>6.284669</td>\n",
              "    </tr>\n",
              "    <tr>\n",
              "      <th>d2c</th>\n",
              "      <td>339478.0</td>\n",
              "      <td>418.132032</td>\n",
              "      <td>259.827915</td>\n",
              "      <td>0.359009</td>\n",
              "      <td>210.220330</td>\n",
              "      <td>389.570385</td>\n",
              "      <td>599.120875</td>\n",
              "      <td>1120.364872</td>\n",
              "    </tr>\n",
              "  </tbody>\n",
              "</table>\n",
              "</div>"
            ],
            "text/plain": [
              "              count          mean  ...           75%           max\n",
              "year       339478.0   2007.013774  ...   2015.000000   2019.000000\n",
              "month      339478.0      6.749374  ...     10.000000     12.000000\n",
              "day        339478.0     15.744955  ...     23.000000     31.000000\n",
              "doy        339478.0    190.020314  ...    285.000000    364.000000\n",
              "x_EASE     339478.0    163.595093  ...    181.115864    279.391541\n",
              "y_EASE     339478.0    156.507375  ...    179.608978    279.562073\n",
              "u_buoy     339478.0     -0.333029  ...      2.942216     68.396103\n",
              "v_buoy     339478.0      1.359709  ...      4.969131     68.639801\n",
              "id_buoy    339478.0  35576.107397  ...  64878.000000  99800.000000\n",
              "u_ERA5     339478.0     -0.096208  ...      2.934149     17.911558\n",
              "v_ERA5     339478.0      0.335691  ...      3.204041     22.862028\n",
              "sic_CDR    339478.0      0.955278  ...      1.000000      1.000000\n",
              "h_cs2smos   72768.0      1.774036  ...      2.284967      4.930797\n",
              "h_piomas   339478.0      2.069873  ...      2.619901      6.284669\n",
              "d2c        339478.0    418.132032  ...    599.120875   1120.364872\n",
              "\n",
              "[15 rows x 8 columns]"
            ]
          },
          "metadata": {
            "tags": []
          },
          "execution_count": 6
        }
      ]
    },
    {
      "cell_type": "code",
      "metadata": {
        "id": "GzHE2HxatWpG"
      },
      "source": [
        "date_time = pd.to_datetime([\"{}.{}.{}\".format(day, month, year) for day, month, year \n",
        " in zip(drift_data_train.day, drift_data_train.month, drift_data_train.year)], format='%d.%m.%Y')"
      ],
      "execution_count": null,
      "outputs": []
    },
    {
      "cell_type": "code",
      "metadata": {
        "id": "UNN2lzgQAH67"
      },
      "source": [
        "# include the periodicity/seasonality information from the Fourier analysis:\r\n",
        "drift_data_train[\"year_sin\"] = np.sin(drift_data_train[\"doy\"] * (2 * np.pi / 364))\r\n",
        "drift_data_train[\"year_cos\"] = np.cos(drift_data_train[\"doy\"] * (2 * np.pi / 364))\r\n",
        "\r\n",
        "# include norm of the wind velocities as data:\r\n",
        "drift_data_train[\"wind_norm\"] = np.sqrt(drift_data_train[\"u_ERA5\"].values**2 + drift_data_train[\"v_ERA5\"].values**2)"
      ],
      "execution_count": 4,
      "outputs": []
    },
    {
      "cell_type": "markdown",
      "metadata": {
        "id": "wah1ozS2P-pa"
      },
      "source": [
        "**Train-test split:**"
      ]
    },
    {
      "cell_type": "code",
      "metadata": {
        "id": "o9irXxWZueVD"
      },
      "source": [
        "import math\r\n",
        "\r\n",
        "from sklearn.model_selection import train_test_split\r\n",
        "\r\n",
        "data = drift_data_train[[\"year_sin\", \"year_cos\", \"wind_norm\", \"x_EASE\",\t\"y_EASE\",\t\"u_buoy\",\t\"v_buoy\",\t\"u_ERA5\",\t\"v_ERA5\",\t\"sic_CDR\",\t\"h_piomas\",\t\"d2c\"]]\r\n",
        "\r\n",
        "# split the data:\r\n",
        "train, test = train_test_split(data, test_size=0.2)"
      ],
      "execution_count": 5,
      "outputs": []
    },
    {
      "cell_type": "markdown",
      "metadata": {
        "id": "fX9CRB_4QIE3"
      },
      "source": [
        "**Options for the training set:**"
      ]
    },
    {
      "cell_type": "code",
      "metadata": {
        "id": "Xlun3L5rQDza"
      },
      "source": [
        "# using all standard variables + sin/cos:\r\n",
        "train_set = train[[\"year_sin\", \"year_cos\", \"x_EASE\",\t\"y_EASE\", \"u_ERA5\",\t\"v_ERA5\",\t\"sic_CDR\", \"h_piomas\",\t\"d2c\"]].copy(deep=True)\r\n",
        "\r\n",
        "# Experimental train_sets:\r\n",
        "# train_set = train[[\"x_EASE\",\t\"y_EASE\", \"u_ERA5\",\t\"v_ERA5\",\t\"sic_CDR\",\t\"h_piomas\",\t\"d2c\"]]  # no forced seasonality\r\n",
        "# train_set = train[[\"year_sin\", \"year_cos\", \"wind_norm\", \"x_EASE\",\t\"y_EASE\", \"u_ERA5\",\t\"v_ERA5\",\t\"sic_CDR\",\t\"h_piomas\",\t\"d2c\"]]  # add wind_norm\r\n",
        "# train_set = train[[\"year_sin\", \"year_cos\", \"wind_norm\", \"x_EASE\",\t\"y_EASE\",\t\"sic_CDR\",\t\"h_piomas\",\t\"d2c\"]]  # only windnorm, no x, y components\r\n",
        "# train_set = train[[\"u_ERA5\",\t\"v_ERA5\"]]  # check relationship by using only the wind velocities\r\n",
        "\r\n",
        "# for the training labels, we calculate the actual angles between the wind an ice velocities:\r\n",
        "\r\n",
        "train_labels = np.zeros(len(train))\r\n",
        "zero_velocities = []\r\n",
        "\r\n",
        "for i in range(len(train)):\r\n",
        "  U_i_true = train[[\"u_buoy\",\t\"v_buoy\"]].values[i]  # true ice velocity vector\r\n",
        "\r\n",
        "  # we skip the samples that have norm close to zero, since no angle can be inferred from them:\r\n",
        "  if not math.isclose(np.linalg.norm(U_i_true), 0):\r\n",
        "\r\n",
        "    U_i_true_norm = U_i_true / np.linalg.norm(U_i_true)  # normalize\r\n",
        "\r\n",
        "    U_a = train[[\"u_ERA5\",\t\"v_ERA5\"]].values[i]  # wind vector\r\n",
        "    U_a_norm = U_a / np.linalg.norm(U_a)\r\n",
        "\r\n",
        "    dot_product = np.clip(np.dot(U_i_true_norm, U_a_norm), -0.9999, 0.9999)\r\n",
        "\r\n",
        "    angle = math.acos(dot_product)\r\n",
        "    train_labels[i] = angle\r\n",
        "\r\n",
        "  else:\r\n",
        "    zero_velocities.append(i)"
      ],
      "execution_count": 6,
      "outputs": []
    },
    {
      "cell_type": "markdown",
      "metadata": {
        "id": "SqCL9QrxQ-Kj"
      },
      "source": [
        "**Same options for the test set:**"
      ]
    },
    {
      "cell_type": "code",
      "metadata": {
        "id": "BmPGk-ayQ9D7"
      },
      "source": [
        "test_set = test[[\"year_sin\", \"year_cos\", \"x_EASE\",\t\"y_EASE\", \"u_ERA5\",\t\"v_ERA5\",\t\"sic_CDR\",\t\"h_piomas\",\t\"d2c\"]].copy(deep=True)\r\n",
        "# test_set = test[[\"x_EASE\",\t\"y_EASE\", \"u_ERA5\",\t\"v_ERA5\",\t\"sic_CDR\",\t\"h_piomas\",\t\"d2c\"]]\r\n",
        "# test_set = test[[\"year_sin\", \"year_cos\", \"wind_norm\", \"x_EASE\",\t\"y_EASE\", \"u_ERA5\",\t\"v_ERA5\",\t\"sic_CDR\",\t\"h_piomas\",\t\"d2c\"]]\r\n",
        "# test_set = test[[\"year_sin\", \"year_cos\", \"wind_norm\", \"x_EASE\",\t\"y_EASE\", \"sic_CDR\",\t\"h_piomas\",\t\"d2c\"]]\r\n",
        "# test_set = test[[\"u_ERA5\",\t\"v_ERA5\"]]\r\n",
        "\r\n",
        "test_labels = np.zeros(len(test))\r\n",
        "zero_velocities_test = []\r\n",
        "\r\n",
        "for i in range(len(test)):\r\n",
        "  U_i_true = test[[\"u_buoy\",\t\"v_buoy\"]].values[i]  # true ice velocity vector\r\n",
        "\r\n",
        "  # we skip the samples that have norm close to zero, since no angle can be inferred from them:\r\n",
        "  if not math.isclose(np.linalg.norm(U_i_true), 0):\r\n",
        "\r\n",
        "    U_i_true_norm = U_i_true / np.linalg.norm(U_i_true)  # normalize\r\n",
        "\r\n",
        "    U_a = test[[\"u_ERA5\",\t\"v_ERA5\"]].values[i]  # wind vector\r\n",
        "    U_a_norm = U_a / np.linalg.norm(U_a)\r\n",
        "\r\n",
        "    dot_product = np.clip(np.dot(U_i_true_norm, U_a_norm), -0.9999, 0.9999)\r\n",
        "\r\n",
        "    angle = math.acos(dot_product)\r\n",
        "    test_labels[i] = angle\r\n",
        "\r\n",
        "  else:\r\n",
        "    zero_velocities_test.append(i)"
      ],
      "execution_count": 8,
      "outputs": []
    },
    {
      "cell_type": "markdown",
      "metadata": {
        "id": "XAQgCuj-R5CO"
      },
      "source": [
        "We drop the data samples for training that have a zero length ice velocity vector, since no angle can be inferred from them and thus no labels are available. The final model, however, will always predict an angle, so this does not deduce the generality of the model."
      ]
    },
    {
      "cell_type": "code",
      "metadata": {
        "id": "ZN5qCcOFjorH"
      },
      "source": [
        "train_set_ = train_set.reset_index().drop(index=np.array(zero_velocities))\r\n",
        "train_labels_ = np.delete(train_labels, zero_velocities)\r\n",
        "\r\n",
        "test_set_ = test_set.reset_index().drop(index=np.array(zero_velocities_test))\r\n",
        "test_labels_ = np.delete(test_labels, zero_velocities_test)"
      ],
      "execution_count": 9,
      "outputs": []
    },
    {
      "cell_type": "code",
      "metadata": {
        "id": "sI1JKi_V-YgW"
      },
      "source": [
        "# remove the indices (artefact from reset_index function in last cell):\r\n",
        "train_set_ = train_set_.drop([\"index\"], axis=1)\r\n",
        "test_set_ = test_set_.drop([\"index\"], axis=1)"
      ],
      "execution_count": 10,
      "outputs": []
    },
    {
      "cell_type": "markdown",
      "metadata": {
        "id": "yeXK3AP2Sc38"
      },
      "source": [
        "**Building the neural network**"
      ]
    },
    {
      "cell_type": "code",
      "metadata": {
        "id": "b87ew-ah31tJ"
      },
      "source": [
        "# normalization of input variables:\r\n",
        "normalizer = preprocessing.Normalization()\r\n",
        "normalizer.adapt(np.array(train_set_))"
      ],
      "execution_count": 11,
      "outputs": []
    },
    {
      "cell_type": "code",
      "metadata": {
        "id": "m5xc8pN38kVH",
        "colab": {
          "base_uri": "https://localhost:8080/",
          "height": 426
        },
        "outputId": "65629831-097e-4fca-d601-994150109d3b"
      },
      "source": [
        "# # visualize normalized data ranges:\r\n",
        "df_std = pd.DataFrame(np.array(normalizer(train_set))).melt(var_name='Column', value_name='Normalized')\r\n",
        "\r\n",
        "plt.figure(figsize=(12, 6))\r\n",
        "ax = sns.violinplot(x='Column', y='Normalized', data=df_std)\r\n",
        "_ = ax.set_xticklabels(train_set.keys(), rotation=90)"
      ],
      "execution_count": 12,
      "outputs": [
        {
          "output_type": "display_data",
          "data": {
            "image/png": "[encoded data removed]",
            "text/plain": [
              "<Figure size 864x432 with 1 Axes>"
            ]
          },
          "metadata": {
            "tags": [],
            "needs_background": "light"
          }
        }
      ]
    },
    {
      "cell_type": "markdown",
      "metadata": {
        "id": "vheEfVylSomO"
      },
      "source": [
        "We center the outputs as well for better performance. It's important to note that the outputs of the neural network afterwards need to be decentered with '`+ norm_mean`' afterwards for sensible predictions! This centering does not influence the difference between the labels and the predictions, so this has no influence on the error, except for making it easier for the model to predict the angles (since a neural network likes symmetric outputs)."
      ]
    },
    {
      "cell_type": "code",
      "metadata": {
        "id": "KpWCBjOPhung",
        "colab": {
          "base_uri": "https://localhost:8080/"
        },
        "outputId": "e46913e2-1e87-4837-f8d2-cf24961f231a"
      },
      "source": [
        "# centering the outputs as well:\r\n",
        "norm_mean = np.mean(train_labels_)\r\n",
        "norm_stdev = np.std(train_labels_)\r\n",
        "print(norm_mean)\r\n",
        "print(norm_stdev)\r\n",
        "\r\n",
        "train_labels_ = (train_labels_ - norm_mean)\r\n",
        "test_labels_ = (test_labels_ - norm_mean)"
      ],
      "execution_count": 13,
      "outputs": [
        {
          "output_type": "stream",
          "text": [
            "0.7203469126026589\n",
            "0.6677393613595433\n"
          ],
          "name": "stdout"
        }
      ]
    },
    {
      "cell_type": "markdown",
      "metadata": {
        "id": "VeOtpAWZTFyK"
      },
      "source": [
        "We build the custom root mean square loss function that is specified as the criterion by Charles Brunette:"
      ]
    },
    {
      "cell_type": "code",
      "metadata": {
        "id": "apINFyEAWDoD"
      },
      "source": [
        "from keras import backend as K\r\n",
        "\r\n",
        "def root_mean_squared_error(y_true, y_pred):\r\n",
        "    return K.sqrt(K.mean(K.square(y_pred - y_true))) "
      ],
      "execution_count": 14,
      "outputs": []
    },
    {
      "cell_type": "code",
      "metadata": {
        "id": "2QvHlOn4s2P_"
      },
      "source": [
        "# Define Sequential model with 3 layers\r\n",
        "model = keras.Sequential(\r\n",
        "    [\r\n",
        "        normalizer,\r\n",
        "        layers.Dense(128, activation=\"relu\"),\r\n",
        "        layers.Dense(128, activation=\"relu\"),\r\n",
        "        layers.Dense(64, activation=\"relu\"),\r\n",
        "        layers.Dense(32, activation=\"relu\"),\r\n",
        "        layers.Dense(1),\r\n",
        "    ])\r\n",
        "\r\n",
        "model.compile(\r\n",
        "    optimizer=tf.optimizers.Adam(learning_rate=0.001),\r\n",
        "    loss=root_mean_squared_error,\r\n",
        "    # loss=\"mse\",\r\n",
        "    )"
      ],
      "execution_count": 15,
      "outputs": []
    },
    {
      "cell_type": "markdown",
      "metadata": {
        "id": "1e8bghGFTNyV"
      },
      "source": [
        "**All right, let's train!**"
      ]
    },
    {
      "cell_type": "code",
      "metadata": {
        "id": "RnsoQbaxwr1r"
      },
      "source": [
        "history = model.fit(\r\n",
        "    x=train_set_, y=train_labels_,\r\n",
        "    epochs=100,\r\n",
        "    verbose=1,\r\n",
        "    validation_split = 0.2\r\n",
        "    )"
      ],
      "execution_count": null,
      "outputs": []
    },
    {
      "cell_type": "markdown",
      "metadata": {
        "id": "usrJ7sSfTcJL"
      },
      "source": [
        "Let's test our trained model on our held-out test samples:"
      ]
    },
    {
      "cell_type": "code",
      "metadata": {
        "id": "_AV2gkI8x9j3"
      },
      "source": [
        "test_predictions = model.predict(test_set_)"
      ],
      "execution_count": 17,
      "outputs": []
    },
    {
      "cell_type": "markdown",
      "metadata": {
        "id": "mNsfJX7GThS_"
      },
      "source": [
        "Calculate the root mean square error, the mean absolute error and the mean error:"
      ]
    },
    {
      "cell_type": "code",
      "metadata": {
        "id": "Mri0ia2fk4zj",
        "colab": {
          "base_uri": "https://localhost:8080/"
        },
        "outputId": "1ca2a984-e693-4be6-9f04-bc8bb0a39781"
      },
      "source": [
        "### for angles with scaled outputs:\r\n",
        "preds = np.array(test_predictions).flatten() + norm_mean\r\n",
        "\r\n",
        "rmse_errors = []\r\n",
        "mae_errors = []\r\n",
        "me_errors = []\r\n",
        "for i, pred in enumerate(preds):\r\n",
        "  mae_errors.append(np.abs(pred - (test_labels_[i] + norm_mean)))\r\n",
        "  me_errors.append(pred - (test_labels_[i] + norm_mean))\r\n",
        "  rmse_errors.append((pred - (test_labels_[i] + norm_mean))**2)\r\n",
        "\r\n",
        "print(\"rmse: \", np.sqrt(np.mean(rmse_errors)))\r\n",
        "print(\"mae: \", np.mean(mae_errors))\r\n",
        "print(\"me: \", np.mean(me_errors))\r\n",
        "\r\n",
        "print(\"average angle: \", np.mean(preds))"
      ],
      "execution_count": 18,
      "outputs": [
        {
          "output_type": "stream",
          "text": [
            "rmse:  0.5558514473614495\n",
            "mae:  0.38829726208300036\n",
            "me:  0.009517099897120856\n",
            "average angle:  0.7338952\n"
          ],
          "name": "stdout"
        }
      ]
    },
    {
      "cell_type": "code",
      "metadata": {
        "id": "6ubTf8Cpwjw3"
      },
      "source": [
        "def convert_to_degrees(angles):\r\n",
        "  return np.array(angles) * 360 / (2 * np.pi)"
      ],
      "execution_count": 19,
      "outputs": []
    },
    {
      "cell_type": "code",
      "metadata": {
        "id": "vYResG3Uwk6l",
        "colab": {
          "base_uri": "https://localhost:8080/"
        },
        "outputId": "c49857ff-6cf8-4922-85e7-b10cabfb1e02"
      },
      "source": [
        "### for angles with scaled outputs and converted to degrees:\r\n",
        "preds = convert_to_degrees(np.array(test_predictions).flatten() + norm_mean)\r\n",
        "test_labs = convert_to_degrees(test_labels_ + norm_mean)\r\n",
        "\r\n",
        "rmse_errors = []\r\n",
        "mae_errors = []\r\n",
        "me_errors = []\r\n",
        "for i, pred in enumerate(preds):\r\n",
        "  mae_errors.append(np.abs(pred - test_labs[i]))\r\n",
        "  me_errors.append(pred - test_labs[i])\r\n",
        "  rmse_errors.append((pred - test_labs[i])**2)\r\n",
        "\r\n",
        "print(\"rmse: \", np.sqrt(np.mean(rmse_errors)))\r\n",
        "print(\"mae: \", np.mean(mae_errors))\r\n",
        "print(\"me: \", np.mean(me_errors))\r\n",
        "\r\n",
        "print(\"average angle: \", np.mean(preds))"
      ],
      "execution_count": 20,
      "outputs": [
        {
          "output_type": "stream",
          "text": [
            "rmse:  31.847941924090193\n",
            "mae:  22.24779412578568\n",
            "me:  0.5452884841150368\n",
            "average angle:  42.049095\n"
          ],
          "name": "stdout"
        }
      ]
    },
    {
      "cell_type": "code",
      "metadata": {
        "id": "Qnqtl5FK67jo",
        "colab": {
          "base_uri": "https://localhost:8080/"
        },
        "outputId": "2ad46d83-251d-4d84-d5ce-3370bd261edf"
      },
      "source": [
        "print(\"true average angle: \", np.mean(test_labs))"
      ],
      "execution_count": 21,
      "outputs": [
        {
          "output_type": "stream",
          "text": [
            "true average angle:  41.50380495049324\n"
          ],
          "name": "stdout"
        }
      ]
    },
    {
      "cell_type": "markdown",
      "metadata": {
        "id": "8egb-kWaTvYA"
      },
      "source": [
        "## Submission test"
      ]
    },
    {
      "cell_type": "markdown",
      "metadata": {
        "id": "JxboUAUgT5d9"
      },
      "source": [
        "The following code is for inferencing on the actual test set for which we don't have labels (i.e., the one we have to submit):"
      ]
    },
    {
      "cell_type": "code",
      "metadata": {
        "id": "0h_dy2KH78Ue"
      },
      "source": [
        "# include the periodicity/seasonality information from the Fourier analysis:\r\n",
        "drift_data_test[\"year_sin\"] = np.sin(drift_data_test[\"doy\"] * (2 * np.pi / 364))\r\n",
        "drift_data_test[\"year_cos\"] = np.cos(drift_data_test[\"doy\"] * (2 * np.pi / 364))\r\n",
        "\r\n",
        "actual_test_set = drift_data_test[[\"year_sin\", \"year_cos\", \"x_EASE\",\t\"y_EASE\", \"u_ERA5\",\t\"v_ERA5\",\t\"sic_CDR\",\t\"h_piomas\",\t\"d2c\"]].copy(deep=True)"
      ],
      "execution_count": null,
      "outputs": []
    },
    {
      "cell_type": "code",
      "metadata": {
        "id": "50a980Rq8AAF"
      },
      "source": [
        "actual_test_predictions = model.predict(actual_test_set)\r\n",
        "actual_test_predictions = np.array(actual_test_predictions + norm_mean)"
      ],
      "execution_count": null,
      "outputs": []
    },
    {
      "cell_type": "markdown",
      "metadata": {
        "id": "FaiToMsIT9zB"
      },
      "source": [
        "Let's write our predictions to disk and download them:"
      ]
    },
    {
      "cell_type": "code",
      "metadata": {
        "id": "978waZCv8CkA"
      },
      "source": [
        "write_away = drift_data_test.drop([\"year_sin\", \"year_cos\"], axis=1)\r\n",
        "write_away[\"angle_wind_ice\"] = actual_test_predictions\r\n",
        "write_away.to_csv(\"predictions_angle.csv\")"
      ],
      "execution_count": null,
      "outputs": []
    },
    {
      "cell_type": "code",
      "metadata": {
        "id": "sQIrP3acZ0AP"
      },
      "source": [
        "model.save('/content/model')"
      ],
      "execution_count": null,
      "outputs": []
    },
    {
      "cell_type": "markdown",
      "metadata": {
        "id": "iJaBvAKuUCKb"
      },
      "source": [
        "Let's download the model as well:"
      ]
    },
    {
      "cell_type": "code",
      "metadata": {
        "id": "dkuy34XwBbxg"
      },
      "source": [
        "!zip -r /content/model.zip /content/model"
      ],
      "execution_count": null,
      "outputs": []
    }
  ]
}